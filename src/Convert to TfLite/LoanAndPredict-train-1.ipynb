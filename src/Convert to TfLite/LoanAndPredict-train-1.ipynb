{
 "cells": [
  {
   "cell_type": "markdown",
   "metadata": {},
   "source": [
    "# Convert to TFlite \n",
    "\n",
    "The goal of this notebook is to convert an existing .h5 model into a .tflite model with parameter tuning "
   ]
  },
  {
   "cell_type": "code",
   "execution_count": 1,
   "metadata": {},
   "outputs": [],
   "source": [
    "#importing the modules \n",
    "import tensorflow as tf "
   ]
  },
  {
   "cell_type": "markdown",
   "metadata": {},
   "source": [
    "# Loading a H5 Model\n",
    "Loading a already trained model in which is saved in .h5 format "
   ]
  },
  {
   "cell_type": "code",
   "execution_count": 2,
   "metadata": {},
   "outputs": [],
   "source": [
    " \n",
    "model = tf.keras.models.load_model(r'F:\\Study\\PGDAIML\\Project-10\\phase-5\\MobileNet\\savedModels\\mobileNetv2-model-2-Date-11-02-22_Acc-98-batch-32-dataset-70-15-15.h5')"
   ]
  },
  {
   "cell_type": "markdown",
   "metadata": {},
   "source": [
    "# Converting  The mode to Tflite \n",
    "\n",
    "This converts that existing model to the tflite model "
   ]
  },
  {
   "cell_type": "code",
   "execution_count": null,
   "metadata": {},
   "outputs": [],
   "source": [
    "tflite_model_path = r\"F:\\Study\\PGDAIML\\Project-10\\phase-5\\Producation\\convertoTFLite\\Saved_lite_Models\\mobileNetv2-model-2-Date-11-02-22_Acc-98-batch-32-dataset-70-15-15-optimize-latecy-litemodel.tflite\"\n",
    "converter = tf.lite.TFLiteConverter.from_keras_model(model)\n",
    "converter.optimizations = [tf.lite.Optimize.OPTIMIZE_FOR_LATENCY] # optimized for latency \n",
    "tflmodel = converter.convert()\n",
    "\n",
    "file = open( tflite_model_path , 'wb' ) \n",
    "file.write( tflmodel )"
   ]
  }
 ],
 "metadata": {
  "interpreter": {
   "hash": "8d521d459ec3225008c2d6977889a9cb7e59e00a9c62c49bf3e7315794ab2e24"
  },
  "kernelspec": {
   "display_name": "Python 3.9.5 64-bit",
   "language": "python",
   "name": "python3"
  },
  "language_info": {
   "codemirror_mode": {
    "name": "ipython",
    "version": 3
   },
   "file_extension": ".py",
   "mimetype": "text/x-python",
   "name": "python",
   "nbconvert_exporter": "python",
   "pygments_lexer": "ipython3",
   "version": "3.9.5"
  },
  "orig_nbformat": 4
 },
 "nbformat": 4,
 "nbformat_minor": 2
}
